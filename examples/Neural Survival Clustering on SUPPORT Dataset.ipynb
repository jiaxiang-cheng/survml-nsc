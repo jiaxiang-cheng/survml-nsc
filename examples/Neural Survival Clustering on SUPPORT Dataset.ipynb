{
 "cells": [
  {
   "cell_type": "markdown",
   "metadata": {},
   "source": [
    "# Neural Survival Clustering on SUPPORT Dataset"
   ]
  },
  {
   "cell_type": "markdown",
   "metadata": {},
   "source": [
    "The SUPPORT dataset comes from the Vanderbilt University study\n",
    "to estimate survival for seriously ill hospitalized adults.\n",
    "(Refer to http://biostat.mc.vanderbilt.edu/wiki/Main/SupportDesc.\n",
    "for the original datasource.)\n",
    "\n",
    "In this notebook, we will apply Neural Survival Clustering on the SUPPORT data."
   ]
  },
  {
   "cell_type": "code",
   "execution_count": 44,
   "metadata": {},
   "outputs": [],
   "source": [
    "import sys\n",
    "sys.path.append('../')\n",
    "# sys.path.append('../DeepSurvivalMachines/')"
   ]
  },
  {
   "cell_type": "markdown",
   "metadata": {},
   "source": [
    "### Load the SUPPORT Dataset\n",
    "\n",
    "The package includes helper functions to load the dataset.\n",
    "\n",
    "X represents an np.array of features (covariates),\n",
    "T is the event/censoring times and,\n",
    "E is the censoring indicator."
   ]
  },
  {
   "cell_type": "code",
   "execution_count": 45,
   "metadata": {},
   "outputs": [],
   "source": [
    "from nsc import datasets\n",
    "x, t, e = datasets.load_dataset('SUPPORT')"
   ]
  },
  {
   "cell_type": "code",
   "execution_count": 46,
   "metadata": {},
   "outputs": [
    {
     "data": {
      "text/html": [
       "<div>\n",
       "<style scoped>\n",
       "    .dataframe tbody tr th:only-of-type {\n",
       "        vertical-align: middle;\n",
       "    }\n",
       "\n",
       "    .dataframe tbody tr th {\n",
       "        vertical-align: top;\n",
       "    }\n",
       "\n",
       "    .dataframe thead th {\n",
       "        text-align: right;\n",
       "    }\n",
       "</style>\n",
       "<table border=\"1\" class=\"dataframe\">\n",
       "  <thead>\n",
       "    <tr style=\"text-align: right;\">\n",
       "      <th></th>\n",
       "      <th>0</th>\n",
       "      <th>1</th>\n",
       "      <th>2</th>\n",
       "      <th>3</th>\n",
       "      <th>4</th>\n",
       "      <th>5</th>\n",
       "      <th>6</th>\n",
       "      <th>7</th>\n",
       "      <th>8</th>\n",
       "      <th>9</th>\n",
       "      <th>...</th>\n",
       "      <th>36</th>\n",
       "      <th>37</th>\n",
       "      <th>38</th>\n",
       "      <th>39</th>\n",
       "      <th>40</th>\n",
       "      <th>41</th>\n",
       "      <th>42</th>\n",
       "      <th>43</th>\n",
       "      <th>0</th>\n",
       "      <th>0</th>\n",
       "    </tr>\n",
       "  </thead>\n",
       "  <tbody>\n",
       "    <tr>\n",
       "      <th>0</th>\n",
       "      <td>0.012772</td>\n",
       "      <td>-1.390013</td>\n",
       "      <td>0.449837</td>\n",
       "      <td>-6.931821e-01</td>\n",
       "      <td>-0.892283</td>\n",
       "      <td>-0.138967</td>\n",
       "      <td>-0.881504</td>\n",
       "      <td>1.569019e+00</td>\n",
       "      <td>-1.655686e+00</td>\n",
       "      <td>-5.238337e-01</td>\n",
       "      <td>...</td>\n",
       "      <td>-0.093555</td>\n",
       "      <td>-0.424643</td>\n",
       "      <td>-0.181379</td>\n",
       "      <td>8.960728</td>\n",
       "      <td>-1.938312</td>\n",
       "      <td>1.974951</td>\n",
       "      <td>-1.388399</td>\n",
       "      <td>-0.399286</td>\n",
       "      <td>2029</td>\n",
       "      <td>0</td>\n",
       "    </tr>\n",
       "    <tr>\n",
       "      <th>1</th>\n",
       "      <td>-0.148262</td>\n",
       "      <td>0.097711</td>\n",
       "      <td>-1.500702</td>\n",
       "      <td>5.187096e-01</td>\n",
       "      <td>0.470382</td>\n",
       "      <td>1.114591</td>\n",
       "      <td>-2.005013</td>\n",
       "      <td>-1.495658e+00</td>\n",
       "      <td>-6.389701e-16</td>\n",
       "      <td>9.880260e-17</td>\n",
       "      <td>...</td>\n",
       "      <td>-0.093555</td>\n",
       "      <td>-0.424643</td>\n",
       "      <td>-0.181379</td>\n",
       "      <td>-0.111598</td>\n",
       "      <td>0.515913</td>\n",
       "      <td>-0.506342</td>\n",
       "      <td>0.720254</td>\n",
       "      <td>-0.399286</td>\n",
       "      <td>4</td>\n",
       "      <td>1</td>\n",
       "    </tr>\n",
       "    <tr>\n",
       "      <th>2</th>\n",
       "      <td>-0.635153</td>\n",
       "      <td>0.097711</td>\n",
       "      <td>-0.525432</td>\n",
       "      <td>-4.201759e-01</td>\n",
       "      <td>-0.290175</td>\n",
       "      <td>0.487812</td>\n",
       "      <td>0.235766</td>\n",
       "      <td>-8.319880e-02</td>\n",
       "      <td>-6.389701e-16</td>\n",
       "      <td>-7.892740e-02</td>\n",
       "      <td>...</td>\n",
       "      <td>-0.093555</td>\n",
       "      <td>-0.424643</td>\n",
       "      <td>-0.181379</td>\n",
       "      <td>-0.111598</td>\n",
       "      <td>0.515913</td>\n",
       "      <td>-0.506342</td>\n",
       "      <td>0.720254</td>\n",
       "      <td>-0.399286</td>\n",
       "      <td>47</td>\n",
       "      <td>1</td>\n",
       "    </tr>\n",
       "    <tr>\n",
       "      <th>3</th>\n",
       "      <td>-1.299688</td>\n",
       "      <td>0.097711</td>\n",
       "      <td>-0.344827</td>\n",
       "      <td>-3.546971e-01</td>\n",
       "      <td>-0.290175</td>\n",
       "      <td>0.905665</td>\n",
       "      <td>-1.680444</td>\n",
       "      <td>-3.003564e-16</td>\n",
       "      <td>-6.389701e-16</td>\n",
       "      <td>9.880260e-17</td>\n",
       "      <td>...</td>\n",
       "      <td>-0.093555</td>\n",
       "      <td>-0.424643</td>\n",
       "      <td>-0.181379</td>\n",
       "      <td>-0.111598</td>\n",
       "      <td>0.515913</td>\n",
       "      <td>1.974951</td>\n",
       "      <td>-1.388399</td>\n",
       "      <td>-0.399286</td>\n",
       "      <td>133</td>\n",
       "      <td>1</td>\n",
       "    </tr>\n",
       "    <tr>\n",
       "      <th>4</th>\n",
       "      <td>1.105258</td>\n",
       "      <td>-0.646151</td>\n",
       "      <td>-0.922764</td>\n",
       "      <td>1.258366e-01</td>\n",
       "      <td>0.470382</td>\n",
       "      <td>-0.347893</td>\n",
       "      <td>0.635237</td>\n",
       "      <td>-6.997670e-01</td>\n",
       "      <td>-6.389701e-16</td>\n",
       "      <td>9.880260e-17</td>\n",
       "      <td>...</td>\n",
       "      <td>-0.093555</td>\n",
       "      <td>-0.424643</td>\n",
       "      <td>-0.181379</td>\n",
       "      <td>-0.111598</td>\n",
       "      <td>0.515913</td>\n",
       "      <td>-0.506342</td>\n",
       "      <td>0.720254</td>\n",
       "      <td>-0.399286</td>\n",
       "      <td>2029</td>\n",
       "      <td>0</td>\n",
       "    </tr>\n",
       "    <tr>\n",
       "      <th>...</th>\n",
       "      <td>...</td>\n",
       "      <td>...</td>\n",
       "      <td>...</td>\n",
       "      <td>...</td>\n",
       "      <td>...</td>\n",
       "      <td>...</td>\n",
       "      <td>...</td>\n",
       "      <td>...</td>\n",
       "      <td>...</td>\n",
       "      <td>...</td>\n",
       "      <td>...</td>\n",
       "      <td>...</td>\n",
       "      <td>...</td>\n",
       "      <td>...</td>\n",
       "      <td>...</td>\n",
       "      <td>...</td>\n",
       "      <td>...</td>\n",
       "      <td>...</td>\n",
       "      <td>...</td>\n",
       "      <td>...</td>\n",
       "      <td>...</td>\n",
       "    </tr>\n",
       "    <tr>\n",
       "      <th>9100</th>\n",
       "      <td>0.219471</td>\n",
       "      <td>-0.646151</td>\n",
       "      <td>0.883291</td>\n",
       "      <td>-5.403626e-01</td>\n",
       "      <td>0.216863</td>\n",
       "      <td>-0.138967</td>\n",
       "      <td>-1.124933</td>\n",
       "      <td>4.276908e-01</td>\n",
       "      <td>1.077955e+00</td>\n",
       "      <td>-4.793410e-01</td>\n",
       "      <td>...</td>\n",
       "      <td>-0.093555</td>\n",
       "      <td>-0.424643</td>\n",
       "      <td>-0.181379</td>\n",
       "      <td>-0.111598</td>\n",
       "      <td>0.515913</td>\n",
       "      <td>-0.506342</td>\n",
       "      <td>0.720254</td>\n",
       "      <td>-0.399286</td>\n",
       "      <td>350</td>\n",
       "      <td>0</td>\n",
       "    </tr>\n",
       "    <tr>\n",
       "      <th>9101</th>\n",
       "      <td>-0.480786</td>\n",
       "      <td>-0.646151</td>\n",
       "      <td>-1.500702</td>\n",
       "      <td>1.939826e-16</td>\n",
       "      <td>-3.078884</td>\n",
       "      <td>-1.601451</td>\n",
       "      <td>1.190748</td>\n",
       "      <td>-2.222321e-01</td>\n",
       "      <td>-6.389701e-16</td>\n",
       "      <td>9.880260e-17</td>\n",
       "      <td>...</td>\n",
       "      <td>-0.093555</td>\n",
       "      <td>-0.424643</td>\n",
       "      <td>-0.181379</td>\n",
       "      <td>-0.111598</td>\n",
       "      <td>0.515913</td>\n",
       "      <td>-0.506342</td>\n",
       "      <td>0.720254</td>\n",
       "      <td>-0.399286</td>\n",
       "      <td>347</td>\n",
       "      <td>0</td>\n",
       "    </tr>\n",
       "    <tr>\n",
       "      <th>9102</th>\n",
       "      <td>0.495813</td>\n",
       "      <td>-0.646151</td>\n",
       "      <td>0.955533</td>\n",
       "      <td>-4.312668e-01</td>\n",
       "      <td>-0.448624</td>\n",
       "      <td>0.069960</td>\n",
       "      <td>-0.325992</td>\n",
       "      <td>-6.290945e-01</td>\n",
       "      <td>-6.389701e-16</td>\n",
       "      <td>-4.793410e-01</td>\n",
       "      <td>...</td>\n",
       "      <td>-0.093555</td>\n",
       "      <td>-0.424643</td>\n",
       "      <td>-0.181379</td>\n",
       "      <td>-0.111598</td>\n",
       "      <td>0.515913</td>\n",
       "      <td>-0.506342</td>\n",
       "      <td>0.720254</td>\n",
       "      <td>-0.399286</td>\n",
       "      <td>346</td>\n",
       "      <td>0</td>\n",
       "    </tr>\n",
       "    <tr>\n",
       "      <th>9103</th>\n",
       "      <td>-1.002436</td>\n",
       "      <td>-0.646151</td>\n",
       "      <td>0.522080</td>\n",
       "      <td>-5.185008e-01</td>\n",
       "      <td>0.407002</td>\n",
       "      <td>0.069960</td>\n",
       "      <td>-0.563174</td>\n",
       "      <td>1.997678e+00</td>\n",
       "      <td>-2.518775e+00</td>\n",
       "      <td>-4.793410e-01</td>\n",
       "      <td>...</td>\n",
       "      <td>-0.093555</td>\n",
       "      <td>-0.424643</td>\n",
       "      <td>-0.181379</td>\n",
       "      <td>-0.111598</td>\n",
       "      <td>0.515913</td>\n",
       "      <td>-0.506342</td>\n",
       "      <td>-1.388399</td>\n",
       "      <td>2.504469</td>\n",
       "      <td>7</td>\n",
       "      <td>1</td>\n",
       "    </tr>\n",
       "    <tr>\n",
       "      <th>9104</th>\n",
       "      <td>1.211332</td>\n",
       "      <td>-0.646151</td>\n",
       "      <td>-0.344827</td>\n",
       "      <td>-4.092983e-01</td>\n",
       "      <td>-0.892283</td>\n",
       "      <td>0.069960</td>\n",
       "      <td>-0.725463</td>\n",
       "      <td>-9.640862e-02</td>\n",
       "      <td>2.229443e+00</td>\n",
       "      <td>-4.348415e-01</td>\n",
       "      <td>...</td>\n",
       "      <td>-0.093555</td>\n",
       "      <td>-0.424643</td>\n",
       "      <td>-0.181379</td>\n",
       "      <td>-0.111598</td>\n",
       "      <td>0.515913</td>\n",
       "      <td>-0.506342</td>\n",
       "      <td>0.720254</td>\n",
       "      <td>-0.399286</td>\n",
       "      <td>198</td>\n",
       "      <td>1</td>\n",
       "    </tr>\n",
       "  </tbody>\n",
       "</table>\n",
       "<p>9105 rows × 46 columns</p>\n",
       "</div>"
      ],
      "text/plain": [
       "            0         1         2             3         4         5   \\\n",
       "0     0.012772 -1.390013  0.449837 -6.931821e-01 -0.892283 -0.138967   \n",
       "1    -0.148262  0.097711 -1.500702  5.187096e-01  0.470382  1.114591   \n",
       "2    -0.635153  0.097711 -0.525432 -4.201759e-01 -0.290175  0.487812   \n",
       "3    -1.299688  0.097711 -0.344827 -3.546971e-01 -0.290175  0.905665   \n",
       "4     1.105258 -0.646151 -0.922764  1.258366e-01  0.470382 -0.347893   \n",
       "...        ...       ...       ...           ...       ...       ...   \n",
       "9100  0.219471 -0.646151  0.883291 -5.403626e-01  0.216863 -0.138967   \n",
       "9101 -0.480786 -0.646151 -1.500702  1.939826e-16 -3.078884 -1.601451   \n",
       "9102  0.495813 -0.646151  0.955533 -4.312668e-01 -0.448624  0.069960   \n",
       "9103 -1.002436 -0.646151  0.522080 -5.185008e-01  0.407002  0.069960   \n",
       "9104  1.211332 -0.646151 -0.344827 -4.092983e-01 -0.892283  0.069960   \n",
       "\n",
       "            6             7             8             9   ...        36  \\\n",
       "0    -0.881504  1.569019e+00 -1.655686e+00 -5.238337e-01  ... -0.093555   \n",
       "1    -2.005013 -1.495658e+00 -6.389701e-16  9.880260e-17  ... -0.093555   \n",
       "2     0.235766 -8.319880e-02 -6.389701e-16 -7.892740e-02  ... -0.093555   \n",
       "3    -1.680444 -3.003564e-16 -6.389701e-16  9.880260e-17  ... -0.093555   \n",
       "4     0.635237 -6.997670e-01 -6.389701e-16  9.880260e-17  ... -0.093555   \n",
       "...        ...           ...           ...           ...  ...       ...   \n",
       "9100 -1.124933  4.276908e-01  1.077955e+00 -4.793410e-01  ... -0.093555   \n",
       "9101  1.190748 -2.222321e-01 -6.389701e-16  9.880260e-17  ... -0.093555   \n",
       "9102 -0.325992 -6.290945e-01 -6.389701e-16 -4.793410e-01  ... -0.093555   \n",
       "9103 -0.563174  1.997678e+00 -2.518775e+00 -4.793410e-01  ... -0.093555   \n",
       "9104 -0.725463 -9.640862e-02  2.229443e+00 -4.348415e-01  ... -0.093555   \n",
       "\n",
       "            37        38        39        40        41        42        43  \\\n",
       "0    -0.424643 -0.181379  8.960728 -1.938312  1.974951 -1.388399 -0.399286   \n",
       "1    -0.424643 -0.181379 -0.111598  0.515913 -0.506342  0.720254 -0.399286   \n",
       "2    -0.424643 -0.181379 -0.111598  0.515913 -0.506342  0.720254 -0.399286   \n",
       "3    -0.424643 -0.181379 -0.111598  0.515913  1.974951 -1.388399 -0.399286   \n",
       "4    -0.424643 -0.181379 -0.111598  0.515913 -0.506342  0.720254 -0.399286   \n",
       "...        ...       ...       ...       ...       ...       ...       ...   \n",
       "9100 -0.424643 -0.181379 -0.111598  0.515913 -0.506342  0.720254 -0.399286   \n",
       "9101 -0.424643 -0.181379 -0.111598  0.515913 -0.506342  0.720254 -0.399286   \n",
       "9102 -0.424643 -0.181379 -0.111598  0.515913 -0.506342  0.720254 -0.399286   \n",
       "9103 -0.424643 -0.181379 -0.111598  0.515913 -0.506342 -1.388399  2.504469   \n",
       "9104 -0.424643 -0.181379 -0.111598  0.515913 -0.506342  0.720254 -0.399286   \n",
       "\n",
       "        0   0   \n",
       "0     2029   0  \n",
       "1        4   1  \n",
       "2       47   1  \n",
       "3      133   1  \n",
       "4     2029   0  \n",
       "...    ...  ..  \n",
       "9100   350   0  \n",
       "9101   347   0  \n",
       "9102   346   0  \n",
       "9103     7   1  \n",
       "9104   198   1  \n",
       "\n",
       "[9105 rows x 46 columns]"
      ]
     },
     "execution_count": 46,
     "metadata": {},
     "output_type": "execute_result"
    }
   ],
   "source": [
    "import pandas as pd\n",
    "df = pd.concat([pd.DataFrame(x), pd.DataFrame(t), pd.DataFrame(e)], axis=1)\n",
    "df"
   ]
  },
  {
   "cell_type": "code",
   "execution_count": 63,
   "metadata": {},
   "outputs": [
    {
     "data": {
      "text/plain": [
       "<AxesSubplot: >"
      ]
     },
     "execution_count": 63,
     "metadata": {},
     "output_type": "execute_result"
    },
    {
     "data": {
      "image/png": "[encoded data removed]",
      "text/plain": [
       "<Figure size 640x480 with 2 Axes>"
      ]
     },
     "metadata": {},
     "output_type": "display_data"
    }
   ],
   "source": [
    "import seaborn as sns\n",
    "sns.heatmap(pd.DataFrame(x).corr(), cmap='crest')"
   ]
  },
  {
   "cell_type": "markdown",
   "metadata": {},
   "source": [
    "### Compute horizons at which we evaluate the performance of NSC\n",
    "\n",
    "Survival predictions are issued at certain time horizons. Here we will evaluate the performance\n",
    "of NSC to issue predictions at the 25th, 50th and 75th event time quantile as is standard practice in Survival Analysis."
   ]
  },
  {
   "cell_type": "code",
   "execution_count": 47,
   "metadata": {},
   "outputs": [],
   "source": [
    "import numpy as np\n",
    "import torch\n",
    "np.random.seed(42)\n",
    "torch.random.manual_seed(42)\n",
    "\n",
    "horizons = [0.25, 0.5, 0.75]\n",
    "times = np.quantile(t[e!=0], horizons).tolist()"
   ]
  },
  {
   "cell_type": "code",
   "execution_count": 48,
   "metadata": {},
   "outputs": [
    {
     "name": "stdout",
     "output_type": "stream",
     "text": [
      "At time 14.00\n",
      "\t 0.00 % observed risk 0\n",
      "\t 16.71 % observed risk 1\n",
      "At time 58.00\n",
      "\t 0.00 % observed risk 0\n",
      "\t 33.96 % observed risk 1\n",
      "At time 252.00\n",
      "\t 0.00 % observed risk 0\n",
      "\t 51.03 % observed risk 1\n"
     ]
    }
   ],
   "source": [
    "# Display the percentage of observed event at different time horizon\n",
    "for time in times:\n",
    "    print('At time {:.2f}'.format(time))\n",
    "    for risk in np.unique(e):\n",
    "        print('\\t {:.2f} % observed risk {}'.format(100 * ((e == risk) & (t < time)).mean(), risk))"
   ]
  },
  {
   "cell_type": "markdown",
   "metadata": {},
   "source": [
    "### Splitting the data into train, test and validation sets\n",
    "\n",
    "We will train NSC on 80% of the Data (10 % of which is used for stopping criterion and 10% for model Selection) and report performance on the remaining 20% held out test set."
   ]
  },
  {
   "cell_type": "code",
   "execution_count": 49,
   "metadata": {},
   "outputs": [],
   "source": [
    "from sklearn.model_selection import train_test_split\n",
    "from sklearn.preprocessing import MinMaxScaler\n",
    "\n",
    "x_train, x_test, t_train, t_test, e_train, e_test = train_test_split(x, t, e, test_size = 0.2, random_state = 42)\n",
    "x_train, x_val, t_train, t_val, e_train, e_val = train_test_split(x_train, t_train, e_train, test_size = 0.2, random_state = 42)\n",
    "x_dev, x_val, t_dev, t_val, e_dev, e_val = train_test_split(x_val, t_val, e_val, test_size = 0.5, random_state = 42)\n",
    "\n",
    "minmax = lambda x: x / t_train.max() # Enforce to be inferior to 1\n",
    "t_train_ddh = minmax(t_train)\n",
    "t_dev_ddh = minmax(t_dev)\n",
    "t_val_ddh = minmax(t_val)\n",
    "times_ddh = minmax(np.array(times))"
   ]
  },
  {
   "cell_type": "markdown",
   "metadata": {},
   "source": [
    "### Setting the parameter grid\n",
    "\n",
    "Lets set up the parameter grid to tune hyper-parameters. We will tune the number of underlying survival distributions, \n",
    "($K$), the latent representation, the learning rate for the Adam optimizer and the number of hidden layers and nodes."
   ]
  },
  {
   "cell_type": "code",
   "execution_count": 50,
   "metadata": {},
   "outputs": [],
   "source": [
    "from sklearn.model_selection import ParameterSampler"
   ]
  },
  {
   "cell_type": "code",
   "execution_count": 51,
   "metadata": {},
   "outputs": [],
   "source": [
    "layers = [[50], [50, 50], [50, 50, 50], [100], [100, 100], [100, 100, 100]]\n",
    "param_grid = {\n",
    "            'learning_rate' : [1e-3, 1e-4],\n",
    "            'layers_surv': layers,\n",
    "            'k': [2, 3, 4, 5],\n",
    "            'representation': [50, 100],\n",
    "            'layers' : layers,\n",
    "            'act': ['Tanh'],\n",
    "            'batch': [100, 250],\n",
    "            }\n",
    "params = ParameterSampler(param_grid, 10, random_state = 42)"
   ]
  },
  {
   "cell_type": "markdown",
   "metadata": {},
   "source": [
    "### Model Training and Selection"
   ]
  },
  {
   "cell_type": "code",
   "execution_count": 52,
   "metadata": {},
   "outputs": [],
   "source": [
    "from nsc import NeuralSurvivalCluster"
   ]
  },
  {
   "cell_type": "code",
   "execution_count": 53,
   "metadata": {
    "scrolled": true
   },
   "outputs": [
    {
     "name": "stderr",
     "output_type": "stream",
     "text": [
      "Loss: -0.510: 100%|█████████████████████████████| 10/10 [00:09<00:00,  1.07it/s]\n",
      "Loss: -0.688: 100%|█████████████████████████████| 10/10 [00:05<00:00,  1.97it/s]\n",
      "Loss: 0.438: 100%|██████████████████████████████| 10/10 [00:03<00:00,  3.18it/s]\n",
      "Loss: 0.324: 100%|██████████████████████████████| 10/10 [00:03<00:00,  2.59it/s]\n",
      "Loss: -0.365: 100%|█████████████████████████████| 10/10 [00:03<00:00,  2.74it/s]\n",
      "Loss: -0.570: 100%|█████████████████████████████| 10/10 [00:03<00:00,  3.11it/s]\n",
      "Loss: -0.333: 100%|█████████████████████████████| 10/10 [00:09<00:00,  1.08it/s]\n",
      "Loss: -0.417: 100%|█████████████████████████████| 10/10 [00:07<00:00,  1.26it/s]\n",
      "Loss: 0.063: 100%|██████████████████████████████| 10/10 [00:03<00:00,  3.24it/s]\n",
      "Loss: -0.157: 100%|█████████████████████████████| 10/10 [00:05<00:00,  1.71it/s]\n"
     ]
    }
   ],
   "source": [
    "models = []\n",
    "for param in params:\n",
    "    model = NeuralSurvivalCluster(layers = param['layers'], \n",
    "                                  act = param['act'], \n",
    "                                  k = param['k'],\n",
    "                                  layers_surv = param['layers_surv'], \n",
    "                                  representation = param['representation'])\n",
    "    # The fit method is called to train the model\n",
    "    model.fit(x_train, t_train_ddh, e_train, \n",
    "              n_iter = 10, \n",
    "              bs = param['batch'],\n",
    "              lr = param['learning_rate'], \n",
    "              val_data = (x_dev, t_dev_ddh, e_dev))\n",
    "    nll = model.compute_nll(x_val, t_val_ddh, e_val)\n",
    "    if not(np.isnan(nll)):\n",
    "        models.append([nll, model])\n",
    "    else:\n",
    "        print(\"WARNING: Nan Value Observed\")"
   ]
  },
  {
   "cell_type": "code",
   "execution_count": 54,
   "metadata": {},
   "outputs": [],
   "source": [
    "best_model = min(models, key = lambda x: x[0])\n",
    "model = best_model[1]"
   ]
  },
  {
   "cell_type": "markdown",
   "metadata": {},
   "source": [
    "### Inference\n",
    "\n",
    "Model prediction for the different patients and analysis of the results"
   ]
  },
  {
   "cell_type": "code",
   "execution_count": 55,
   "metadata": {},
   "outputs": [],
   "source": [
    "out_risk = model.predict_risk(x_test, times_ddh.tolist())\n",
    "out_survival = model.predict_survival(x_test, times_ddh.tolist())"
   ]
  },
  {
   "cell_type": "markdown",
   "metadata": {},
   "source": [
    "### Evaluation\n",
    "\n",
    "We evaluate the performance of NSC in its discriminative ability (Time Dependent Concordance Index and Cumulative Dynamic AUC) as well as Brier Score."
   ]
  },
  {
   "cell_type": "code",
   "execution_count": 56,
   "metadata": {},
   "outputs": [],
   "source": [
    "from sksurv.metrics import concordance_index_ipcw, brier_score, cumulative_dynamic_auc"
   ]
  },
  {
   "cell_type": "code",
   "execution_count": 57,
   "metadata": {},
   "outputs": [
    {
     "name": "stdout",
     "output_type": "stream",
     "text": [
      "For 0.25 quantile,\n",
      "TD Concordance Index: 0.739823577959035\n",
      "Brier Score: 0.13292832375032174\n",
      "ROC AUC  0.7505383252104563 \n",
      "\n",
      "For 0.5 quantile,\n",
      "TD Concordance Index: 0.6903909116143121\n",
      "Brier Score: 0.19859609050921634\n",
      "ROC AUC  0.7092987262018902 \n",
      "\n",
      "For 0.75 quantile,\n",
      "TD Concordance Index: 0.6757568675566982\n",
      "Brier Score: 0.2152699301019774\n",
      "ROC AUC  0.7175734034596732 \n",
      "\n"
     ]
    }
   ],
   "source": [
    "et_train = np.array([(e_train[i] == 1, t_train[i]) for i in range(len(e_train))],\n",
    "                 dtype = [('e', bool), ('t', float)])\n",
    "et_test = np.array([(e_test[i] == 1, t_test[i]) for i in range(len(e_test))],\n",
    "                 dtype = [('e', bool), ('t', float)])\n",
    "selection = (t_test < t_train.max()) | (e_test == 0)\n",
    "\n",
    "cis = []\n",
    "for i, _ in enumerate(times):\n",
    "    cis.append(concordance_index_ipcw(et_train, et_test[selection], out_risk[:, i][selection], times[i])[0])\n",
    "brs = brier_score(et_train, et_test[selection], out_survival[selection], times)[1]\n",
    "roc_auc = []\n",
    "for i, _ in enumerate(times):\n",
    "    roc_auc.append(cumulative_dynamic_auc(et_train, et_test[selection], out_risk[:, i][selection], times[i])[0])\n",
    "for horizon in enumerate(horizons):\n",
    "    print(f\"For {horizon[1]} quantile,\")\n",
    "    print(\"TD Concordance Index:\", cis[horizon[0]])\n",
    "    print(\"Brier Score:\", brs[horizon[0]])\n",
    "    print(\"ROC AUC \", roc_auc[horizon[0]][0], \"\\n\")"
   ]
  },
  {
   "cell_type": "markdown",
   "metadata": {},
   "source": [
    "## Cluster analysis\n",
    "\n",
    "In this section, we display the learnt clusters and the impact of the different features on the membership to each cluster. This importance is obtained through permutation of the feature."
   ]
  },
  {
   "cell_type": "code",
   "execution_count": 58,
   "metadata": {},
   "outputs": [],
   "source": [
    "import pandas as pd\n",
    "import matplotlib.pyplot as plt"
   ]
  },
  {
   "cell_type": "code",
   "execution_count": 59,
   "metadata": {},
   "outputs": [],
   "source": [
    "times_cluster = np.quantile(t, np.linspace(0, 1, 100))\n",
    "clusters = model.survival_cluster(minmax(times_cluster).tolist(), 1)"
   ]
  },
  {
   "cell_type": "code",
   "execution_count": 60,
   "metadata": {},
   "outputs": [
    {
     "data": {
      "text/plain": [
       "Text(0, 0.5, 'Time')"
      ]
     },
     "execution_count": 60,
     "metadata": {},
     "output_type": "execute_result"
    },
    {
     "data": {
      "image/png": "[encoded data removed]",
      "text/plain": [
       "<Figure size 640x480 with 1 Axes>"
      ]
     },
     "metadata": {},
     "output_type": "display_data"
    }
   ],
   "source": [
    "pd.DataFrame(clusters, index = times_cluster).plot()\n",
    "plt.grid(alpha = 0.3)\n",
    "plt.ylim(0, 1)\n",
    "plt.legend(title = 'Clusters')\n",
    "plt.xlabel('Predicted Survival')\n",
    "plt.ylabel('Time')"
   ]
  },
  {
   "cell_type": "code",
   "execution_count": 61,
   "metadata": {},
   "outputs": [],
   "source": [
    "# importance, confidence = model.feature_importance(x_train, t_train_ddh, e_train)"
   ]
  },
  {
   "cell_type": "code",
   "execution_count": 62,
   "metadata": {},
   "outputs": [],
   "source": [
    "# (pd.DataFrame({'Value': 100 * np.array(list(importance.values())), 'Conf': confidence.values()}, index = columns)).sort_values('Value').plot.bar(yerr = 'Conf')\n",
    "# plt.ylabel('% change in NLL')\n",
    "# plt.xlabel('Covariates')\n",
    "# plt.grid(alpha = 0.3)"
   ]
  },
  {
   "cell_type": "code",
   "execution_count": null,
   "metadata": {},
   "outputs": [],
   "source": []
  }
 ],
 "metadata": {
  "kernelspec": {
   "display_name": "Python 3 (ipykernel)",
   "language": "python",
   "name": "python3"
  },
  "language_info": {
   "codemirror_mode": {
    "name": "ipython",
    "version": 3
   },
   "file_extension": ".py",
   "mimetype": "text/x-python",
   "name": "python",
   "nbconvert_exporter": "python",
   "pygments_lexer": "ipython3",
   "version": "3.8.16"
  },
  "vscode": {
   "interpreter": {
    "hash": "f1b50223f39b64c0c24545f474e3e7d2d3b4b121fe045100fc03a3926bb649af"
   }
  }
 },
 "nbformat": 4,
 "nbformat_minor": 4
}
